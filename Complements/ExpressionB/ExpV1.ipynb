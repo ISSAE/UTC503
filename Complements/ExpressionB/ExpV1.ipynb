{
 "cells": [
  {
   "cell_type": "markdown",
   "metadata": {},
   "source": [
    "# La classe Exp : représente expression Exp :== Const | ExpB"
   ]
  },
  {
   "cell_type": "code",
   "execution_count": 1,
   "metadata": {},
   "outputs": [],
   "source": [
    "class Exp:\n",
    "    def __str__(self):\n",
    "        pass\n",
    "    def infixe(self):\n",
    "        pass\n",
    "    def postfixe(self):\n",
    "        pass\n",
    "    def prefixe(self):\n",
    "        pass\n",
    "    def eval():\n",
    "        pass"
   ]
  },
  {
   "cell_type": "markdown",
   "metadata": {},
   "source": [
    "# La class Const herite de Exp"
   ]
  },
  {
   "cell_type": "code",
   "execution_count": 59,
   "metadata": {},
   "outputs": [],
   "source": [
    "class Const(Exp):\n",
    "    def __init__(self,v):\n",
    "       \"\"\" e attribut d'objet contenant le nombre\"\"\"\n",
    "       self.e=v\n",
    "        \n",
    "    def infixe(self):\n",
    "        return f\"C:{self.e}\"\n",
    "    \n",
    "    def __str__(self):\n",
    "        return self.infixe()\n",
    "    \n",
    "    def prefixe(self):\n",
    "        return self.infixe()\n",
    "    \n",
    "    postfixe = lambda self: self.infixe()\n",
    "    \n",
    "    eval = lambda self: self.e"
   ]
  },
  {
   "cell_type": "code",
   "execution_count": 60,
   "metadata": {},
   "outputs": [],
   "source": [
    "c1=Const(2)"
   ]
  },
  {
   "cell_type": "code",
   "execution_count": 61,
   "metadata": {},
   "outputs": [
    {
     "data": {
      "text/plain": [
       "2"
      ]
     },
     "execution_count": 61,
     "metadata": {},
     "output_type": "execute_result"
    }
   ],
   "source": [
    "c1.e"
   ]
  },
  {
   "cell_type": "code",
   "execution_count": 62,
   "metadata": {},
   "outputs": [
    {
     "data": {
      "text/plain": [
       "<__main__.Const at 0x7fde84041f28>"
      ]
     },
     "execution_count": 62,
     "metadata": {},
     "output_type": "execute_result"
    }
   ],
   "source": [
    "c1"
   ]
  },
  {
   "cell_type": "code",
   "execution_count": 63,
   "metadata": {},
   "outputs": [
    {
     "name": "stdout",
     "output_type": "stream",
     "text": [
      "C:2\n"
     ]
    }
   ],
   "source": [
    "print(c1)"
   ]
  },
  {
   "cell_type": "code",
   "execution_count": 35,
   "metadata": {},
   "outputs": [
    {
     "data": {
      "text/plain": [
       "'C:2'"
      ]
     },
     "execution_count": 35,
     "metadata": {},
     "output_type": "execute_result"
    }
   ],
   "source": [
    "c1.prefixe()"
   ]
  },
  {
   "cell_type": "code",
   "execution_count": 36,
   "metadata": {},
   "outputs": [
    {
     "data": {
      "text/plain": [
       "'C:2'"
      ]
     },
     "execution_count": 36,
     "metadata": {},
     "output_type": "execute_result"
    }
   ],
   "source": [
    "c1.postfixe()"
   ]
  },
  {
   "cell_type": "code",
   "execution_count": 64,
   "metadata": {},
   "outputs": [
    {
     "data": {
      "text/plain": [
       "2"
      ]
     },
     "execution_count": 64,
     "metadata": {},
     "output_type": "execute_result"
    }
   ],
   "source": [
    "c1.eval()"
   ]
  },
  {
   "cell_type": "markdown",
   "metadata": {},
   "source": [
    "# ExpB : expression Binaire est (Exp op Exp)"
   ]
  },
  {
   "cell_type": "code",
   "execution_count": 77,
   "metadata": {},
   "outputs": [],
   "source": [
    "class ExpB(Exp):\n",
    "    def __init__(self, op, e1, e2):\n",
    "        self.op=op\n",
    "        self.expg=e1\n",
    "        self.expd=e2\n",
    "        \n",
    "    def infixe(self):\n",
    "        return f\"({self.expg.infixe()} {self.op} {self.expd.infixe()})\"\n",
    "    \n",
    "    def __str__(self):\n",
    "        return self.infixe()\n",
    "\n",
    "    def postfixe(self):\n",
    "        return f\"{self.expg.postfixe()} {self.expd.postfixe()} {self.op}\"\n",
    "    \n",
    "    def prefixe(self):\n",
    "        return f\"{self.op}({self.expg.prefixe()},{self.expd.prefixe()})\"\n",
    "    \n",
    "    def eval(self):\n",
    "        if self.op == '+':\n",
    "            return self.expg.eval() + self.expd.eval()\n",
    "        elif self.op == '-':\n",
    "            return self.expg.eval() - self.expd.eval()\n",
    "        elif self.op == '*':\n",
    "            return self.expg.eval() * self.expd.eval()\n",
    "        elif self.op == '/':\n",
    "            return self.expg.eval() / self.expd.eval()\n",
    "        else:\n",
    "            raise SyntaxError(f\"l'opérateur {self.op} n'existe pas\")"
   ]
  },
  {
   "cell_type": "code",
   "execution_count": 78,
   "metadata": {},
   "outputs": [],
   "source": [
    "expb1=ExpB('+', c1, Const(3.5))"
   ]
  },
  {
   "cell_type": "code",
   "execution_count": 79,
   "metadata": {},
   "outputs": [
    {
     "data": {
      "text/plain": [
       "'(C:2 + C:3.5)'"
      ]
     },
     "execution_count": 79,
     "metadata": {},
     "output_type": "execute_result"
    }
   ],
   "source": [
    "expb1.infixe()"
   ]
  },
  {
   "cell_type": "code",
   "execution_count": 80,
   "metadata": {},
   "outputs": [],
   "source": [
    "expb2= ExpB('*',expb1,ExpB('-',Const(1),Const(2)))"
   ]
  },
  {
   "cell_type": "code",
   "execution_count": 81,
   "metadata": {},
   "outputs": [
    {
     "data": {
      "text/plain": [
       "'((C:2 + C:3.5) * (C:1 - C:2))'"
      ]
     },
     "execution_count": 81,
     "metadata": {},
     "output_type": "execute_result"
    }
   ],
   "source": [
    "expb2.infixe()"
   ]
  },
  {
   "cell_type": "code",
   "execution_count": 82,
   "metadata": {},
   "outputs": [
    {
     "data": {
      "text/plain": [
       "'C:2 C:3.5 + C:1 C:2 - *'"
      ]
     },
     "execution_count": 82,
     "metadata": {},
     "output_type": "execute_result"
    }
   ],
   "source": [
    "expb2.postfixe()"
   ]
  },
  {
   "cell_type": "code",
   "execution_count": 83,
   "metadata": {},
   "outputs": [
    {
     "data": {
      "text/plain": [
       "'*(+(C:2,C:3.5),-(C:1,C:2))'"
      ]
     },
     "execution_count": 83,
     "metadata": {},
     "output_type": "execute_result"
    }
   ],
   "source": [
    "expb2.prefixe()"
   ]
  },
  {
   "cell_type": "code",
   "execution_count": 84,
   "metadata": {},
   "outputs": [
    {
     "data": {
      "text/plain": [
       "-5.5"
      ]
     },
     "execution_count": 84,
     "metadata": {},
     "output_type": "execute_result"
    }
   ],
   "source": [
    "expb2.eval()"
   ]
  },
  {
   "cell_type": "code",
   "execution_count": 88,
   "metadata": {},
   "outputs": [],
   "source": [
    "expb3=ExpB('/', expb2, expb1)"
   ]
  },
  {
   "cell_type": "code",
   "execution_count": 89,
   "metadata": {},
   "outputs": [
    {
     "data": {
      "text/plain": [
       "'(((C:2 + C:3.5) * (C:1 - C:2)) / (C:2 + C:3.5))'"
      ]
     },
     "execution_count": 89,
     "metadata": {},
     "output_type": "execute_result"
    }
   ],
   "source": [
    "expb3.infixe()"
   ]
  },
  {
   "cell_type": "code",
   "execution_count": 90,
   "metadata": {},
   "outputs": [
    {
     "data": {
      "text/plain": [
       "-1.0"
      ]
     },
     "execution_count": 90,
     "metadata": {},
     "output_type": "execute_result"
    }
   ],
   "source": [
    "expb3.eval()"
   ]
  },
  {
   "cell_type": "code",
   "execution_count": null,
   "metadata": {},
   "outputs": [],
   "source": []
  }
 ],
 "metadata": {
  "kernelspec": {
   "display_name": "Python 3",
   "language": "python",
   "name": "python3"
  },
  "language_info": {
   "codemirror_mode": {
    "name": "ipython",
    "version": 3
   },
   "file_extension": ".py",
   "mimetype": "text/x-python",
   "name": "python",
   "nbconvert_exporter": "python",
   "pygments_lexer": "ipython3",
   "version": "3.6.9"
  }
 },
 "nbformat": 4,
 "nbformat_minor": 4
}

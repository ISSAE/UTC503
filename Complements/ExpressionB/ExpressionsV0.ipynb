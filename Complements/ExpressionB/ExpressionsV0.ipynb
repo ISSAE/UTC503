{
 "cells": [
  {
   "cell_type": "code",
   "execution_count": 9,
   "metadata": {},
   "outputs": [],
   "source": [
    "class Exp:\n",
    "    def __str__(self):\n",
    "        pass\n",
    "    def infixe(self):\n",
    "        pass\n",
    "    def postfixe(self):\n",
    "        pass\n",
    "    def prefixe(self):\n",
    "        pass\n",
    "    def eval():\n",
    "        pass\n",
    "\n",
    "class Const(Exp):\n",
    "  \"\"\" Les constante des expression arithmétique\"\"\" \n",
    "  def __init__(self,v):\n",
    "    \"\"\" e attribut d'objet contenant le nombre\"\"\"\n",
    "    self.e=v\n",
    "  # def __str__(self):\n",
    "  #  return f\"C:{self.e}\"\n",
    "  def __str__(self):\n",
    "    return \"C:\"+str(self.e)\n",
    "  def postfixe(self):\n",
    "        return f\"C:{self.e}\"\n",
    "  def prefixe(self):\n",
    "        return f\"C:{self.e}\"\n",
    "  def eval(self):\n",
    "    return self.e\n",
    "    \n",
    "class ExpB(Exp):\n",
    "    \"\"\" Les Expression binaire des expression arithmétique\"\"\" \n",
    "    def __init__(self, op, e1, e2):\n",
    "        \"\"\" Expression binaire est définit par\n",
    "            un operateur : op exemple + - *\n",
    "            Une expression gauche e1: par exemple 2 ou (2+3)\n",
    "            Une expression droite e2:\n",
    "            (e1 op e2)\n",
    "            \"\"\"\n",
    "        self.op=op\n",
    "        self.e1=e1\n",
    "        self.e2=e2\n",
    "    def __str__(self):\n",
    "        return f\"\"\"({self.e1} {self.op} {self.e2})\"\"\"\n",
    "    # def __str__(slef):\n",
    "    #    return \"(\"+str(self.e1)+\" \"+str(self.op)+ \" \"+str(self.e2)+\")\"\n",
    "    def postfixe(self):\n",
    "        return f\"{self.e1.postfixe()} {self.e2.postfixe()} {self.op}\"\n",
    "    \n",
    "    def prefixe(self):\n",
    "        return f\"{self.op}({self.e1.prefixe()},{self.e2.prefixe()})\"\n",
    "    \n",
    "    def eval(self):\n",
    "        if self.op == '+':\n",
    "            return self.e1.eval() + self.e2.eval()\n",
    "        elif self.op == '-':\n",
    "            return self.e1.eval() - self.e2.eval()\n",
    "        elif self.op == '*':\n",
    "            return self.e1.eval() * self.e2.eval()\n",
    "        else:\n",
    "            raise SyntaxError(\"Pas un operateur connue \"+op)\n",
    "    "
   ]
  },
  {
   "cell_type": "code",
   "execution_count": 10,
   "metadata": {},
   "outputs": [],
   "source": [
    "c1=Const(1) # 1\n",
    "c2=Const(3.5) # 3.5\n",
    "eb1=ExpB('+',c1,c2) # (1 + 3.5)"
   ]
  },
  {
   "cell_type": "code",
   "execution_count": 11,
   "metadata": {},
   "outputs": [],
   "source": [
    "c1.infixe()"
   ]
  },
  {
   "cell_type": "code",
   "execution_count": 12,
   "metadata": {},
   "outputs": [
    {
     "data": {
      "text/plain": [
       "4.5"
      ]
     },
     "execution_count": 12,
     "metadata": {},
     "output_type": "execute_result"
    }
   ],
   "source": [
    "eb1.eval()"
   ]
  },
  {
   "cell_type": "code",
   "execution_count": 13,
   "metadata": {},
   "outputs": [
    {
     "data": {
      "text/plain": [
       "<__main__.ExpB at 0x7fda63fc38d0>"
      ]
     },
     "execution_count": 13,
     "metadata": {},
     "output_type": "execute_result"
    }
   ],
   "source": [
    "eb1"
   ]
  },
  {
   "cell_type": "code",
   "execution_count": 14,
   "metadata": {},
   "outputs": [
    {
     "name": "stdout",
     "output_type": "stream",
     "text": [
      "C:1\n"
     ]
    }
   ],
   "source": [
    "print(c1)"
   ]
  },
  {
   "cell_type": "code",
   "execution_count": 15,
   "metadata": {},
   "outputs": [
    {
     "data": {
      "text/plain": [
       "'C:1'"
      ]
     },
     "execution_count": 15,
     "metadata": {},
     "output_type": "execute_result"
    }
   ],
   "source": [
    "c1.__str__()"
   ]
  },
  {
   "cell_type": "code",
   "execution_count": 16,
   "metadata": {},
   "outputs": [
    {
     "name": "stdout",
     "output_type": "stream",
     "text": [
      "(C:1 + C:3.5)\n"
     ]
    }
   ],
   "source": [
    "print(eb1)"
   ]
  },
  {
   "cell_type": "code",
   "execution_count": 17,
   "metadata": {},
   "outputs": [],
   "source": [
    "eb2=ExpB('-', eb1,c1)"
   ]
  },
  {
   "cell_type": "code",
   "execution_count": 18,
   "metadata": {},
   "outputs": [
    {
     "name": "stdout",
     "output_type": "stream",
     "text": [
      "((C:1 + C:3.5) - C:1)\n"
     ]
    }
   ],
   "source": [
    "print(eb2)"
   ]
  },
  {
   "cell_type": "code",
   "execution_count": 19,
   "metadata": {},
   "outputs": [
    {
     "data": {
      "text/plain": [
       "3.5"
      ]
     },
     "execution_count": 19,
     "metadata": {},
     "output_type": "execute_result"
    }
   ],
   "source": [
    "eb2.eval()"
   ]
  },
  {
   "cell_type": "code",
   "execution_count": 20,
   "metadata": {},
   "outputs": [],
   "source": [
    "eb3=ExpB('*', eb1,eb2)"
   ]
  },
  {
   "cell_type": "code",
   "execution_count": 21,
   "metadata": {},
   "outputs": [
    {
     "data": {
      "text/plain": [
       "'((C:1 + C:3.5) * ((C:1 + C:3.5) - C:1))'"
      ]
     },
     "execution_count": 21,
     "metadata": {},
     "output_type": "execute_result"
    }
   ],
   "source": [
    "str(eb3)"
   ]
  },
  {
   "cell_type": "code",
   "execution_count": 22,
   "metadata": {},
   "outputs": [
    {
     "data": {
      "text/plain": [
       "True"
      ]
     },
     "execution_count": 22,
     "metadata": {},
     "output_type": "execute_result"
    }
   ],
   "source": [
    "eb3.eval() == 4.5 * 3.5"
   ]
  },
  {
   "cell_type": "code",
   "execution_count": 23,
   "metadata": {},
   "outputs": [
    {
     "data": {
      "text/plain": [
       "'C:1 C:3.5 + C:1 C:3.5 + C:1 - *'"
      ]
     },
     "execution_count": 23,
     "metadata": {},
     "output_type": "execute_result"
    }
   ],
   "source": [
    "eb3.postfixe()"
   ]
  },
  {
   "cell_type": "code",
   "execution_count": 24,
   "metadata": {},
   "outputs": [
    {
     "data": {
      "text/plain": [
       "'C:1'"
      ]
     },
     "execution_count": 24,
     "metadata": {},
     "output_type": "execute_result"
    }
   ],
   "source": [
    "c1.postfixe()"
   ]
  },
  {
   "cell_type": "code",
   "execution_count": 25,
   "metadata": {},
   "outputs": [
    {
     "data": {
      "text/plain": [
       "'*(+(C:1,C:3.5),-(+(C:1,C:3.5),C:1))'"
      ]
     },
     "execution_count": 25,
     "metadata": {},
     "output_type": "execute_result"
    }
   ],
   "source": [
    "eb3.prefixe()"
   ]
  },
  {
   "cell_type": "code",
   "execution_count": null,
   "metadata": {},
   "outputs": [],
   "source": []
  },
  {
   "cell_type": "code",
   "execution_count": null,
   "metadata": {},
   "outputs": [],
   "source": []
  },
  {
   "cell_type": "code",
   "execution_count": null,
   "metadata": {},
   "outputs": [],
   "source": []
  }
 ],
 "metadata": {
  "kernelspec": {
   "display_name": "Python 3",
   "language": "python",
   "name": "python3"
  },
  "language_info": {
   "codemirror_mode": {
    "name": "ipython",
    "version": 3
   },
   "file_extension": ".py",
   "mimetype": "text/x-python",
   "name": "python",
   "nbconvert_exporter": "python",
   "pygments_lexer": "ipython3",
   "version": "3.6.9"
  }
 },
 "nbformat": 4,
 "nbformat_minor": 4
}

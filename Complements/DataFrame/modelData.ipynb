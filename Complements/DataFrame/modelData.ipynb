{
 "cells": [
  {
   "cell_type": "markdown",
   "metadata": {},
   "source": [
    "# Nous souhaitons modéliser un ensemble de données structuré. Un \"data frame\" est structuré avec les individus en lignes et les différentes variables en colonne.\n",
    "équivalent à une table de BD, ou une dataTable.\n",
    "\n",
    "Par exemple:"
   ]
  },
  {
   "cell_type": "code",
   "execution_count": 7,
   "metadata": {},
   "outputs": [],
   "source": [
    "champs=['Nom', 'Prenom', 'tel', 'email']\n",
    "donnee = [['Pascal', 'Fares', '03xxxyyy', 'pf@isae.edu.lb'], \n",
    "          ['Emile', 'Dupont', '336xxyyzzww', 'de@isae.edu.lb']]"
   ]
  },
  {
   "cell_type": "markdown",
   "metadata": {},
   "source": [
    "Représenterait:\n",
    "\n",
    "| Nom | Prenom | Tel | Email |\n",
    "| --- | ------ | --- | ----- |\n",
    "|Pascal|Fares|03xxxyyy|pf@isae.edu.lb|\n",
    "|Emile|Dupont|336xxyyzzww|de@isae.edu.lb|"
   ]
  },
  {
   "cell_type": "markdown",
   "metadata": {},
   "source": [
    "## Pour récuperer l'index d'un champs"
   ]
  },
  {
   "cell_type": "code",
   "execution_count": 16,
   "metadata": {},
   "outputs": [],
   "source": [
    "# La fonction getIndex,si le champs pas dans la liste => exception valueError\n",
    "getIndex = lambda listeChamps, nomChamp: listeChamps.index(nomChamp)"
   ]
  },
  {
   "cell_type": "code",
   "execution_count": 9,
   "metadata": {},
   "outputs": [
    {
     "data": {
      "text/plain": [
       "3"
      ]
     },
     "execution_count": 9,
     "metadata": {},
     "output_type": "execute_result"
    }
   ],
   "source": [
    "getIndex(['Nom', 'Prenom', 'tel', 'email'], 'email')"
   ]
  },
  {
   "cell_type": "markdown",
   "metadata": {},
   "source": [
    "## Quand on a l'index on pourrait récupérer la valeur des champs\n",
    "En utilisant map, ou list comprehetion"
   ]
  },
  {
   "cell_type": "code",
   "execution_count": 12,
   "metadata": {},
   "outputs": [
    {
     "data": {
      "text/plain": [
       "['pf@isae.edu.lb', 'de@isae.edu.lb']"
      ]
     },
     "execution_count": 12,
     "metadata": {},
     "output_type": "execute_result"
    }
   ],
   "source": [
    "# Liste comprenhention\n",
    "[l[getIndex(champs,'email')] for l in donnee]"
   ]
  },
  {
   "cell_type": "code",
   "execution_count": 13,
   "metadata": {},
   "outputs": [
    {
     "data": {
      "text/plain": [
       "['pf@isae.edu.lb', 'de@isae.edu.lb']"
      ]
     },
     "execution_count": 13,
     "metadata": {},
     "output_type": "execute_result"
    }
   ],
   "source": [
    "#map\n",
    "list(map(lambda l: l[getIndex(champs, 'email')], donnee))"
   ]
  },
  {
   "cell_type": "markdown",
   "metadata": {},
   "source": [
    "## Réalisons la fonction : l'équivalent de select en SQL (la projection): en fonctionnel par un  `map`"
   ]
  },
  {
   "cell_type": "markdown",
   "metadata": {},
   "source": [
    "### Paramètres nécessaires: tous les champs : `champs`, la selection de champs : `schamps`, les donnees : `donnees`"
   ]
  },
  {
   "cell_type": "markdown",
   "metadata": {},
   "source": [
    "* **propriétés:** schamps sous ensemble de champs\n",
    "* **resultat attendu:** la listes des ensembles de valeurs correspondants au `schamps` issues des `donnees`"
   ]
  },
  {
   "cell_type": "code",
   "execution_count": 14,
   "metadata": {},
   "outputs": [],
   "source": [
    "# Fonctions liste schamps -> liste indexe\n",
    "tousLesIndexes = lambda champs: lambda schamps: [champs.index(c) for c in schamps]"
   ]
  },
  {
   "cell_type": "code",
   "execution_count": 15,
   "metadata": {},
   "outputs": [
    {
     "data": {
      "text/plain": [
       "[1, 3]"
      ]
     },
     "execution_count": 15,
     "metadata": {},
     "output_type": "execute_result"
    }
   ],
   "source": [
    "#ceci va permettre de définir par exemple\n",
    "indexPourMesChamps = tousLesIndexes(['Nom', 'Prenom', 'tel', 'email'])\n",
    "# et donc réaliser ceci\n",
    "indexPourMesChamps(['Prenom', 'email'])"
   ]
  },
  {
   "cell_type": "code",
   "execution_count": 25,
   "metadata": {},
   "outputs": [
    {
     "name": "stdout",
     "output_type": "stream",
     "text": [
      "['Fares', 'pf@isae.edu.lb']\n",
      "['Fares', 'pf@isae.edu.lb']\n"
     ]
    }
   ],
   "source": [
    "#Fonction qui a partir d'un eliste d'indexes renvoie la liste de valeurs\n",
    "getValeurs = lambda l,indexes: [l[i] for i in indexes]\n",
    "\n",
    "# Exemples:\n",
    "print(getValeurs(['Pascal', 'Fares', '03xxxyyy', 'pf@isae.edu.lb'],[1, 3]))\n",
    "print(getValeurs(['Pascal', 'Fares', '03xxxyyy', 'pf@isae.edu.lb'],tousLesIndexes(['Nom', 'Prenom', 'tel', 'email'])(['Prenom', 'email'])))"
   ]
  },
  {
   "cell_type": "code",
   "execution_count": 26,
   "metadata": {},
   "outputs": [],
   "source": [
    "#maintenant réupérons toutes les valeurs\n",
    "select = lambda champs, donnees: lambda schamps: [getValeurs(d, tousLesIndexes(champs)(schamps)) for d in donnees]"
   ]
  },
  {
   "cell_type": "code",
   "execution_count": 30,
   "metadata": {},
   "outputs": [
    {
     "data": {
      "text/plain": [
       "[['Fares', 'pf@isae.edu.lb'], ['Dupont', 'de@isae.edu.lb']]"
      ]
     },
     "execution_count": 30,
     "metadata": {},
     "output_type": "execute_result"
    }
   ],
   "source": [
    "select(['Nom', 'Prenom', 'tel', 'email'],donnee)(['Prenom', 'email'])"
   ]
  },
  {
   "cell_type": "code",
   "execution_count": 31,
   "metadata": {},
   "outputs": [
    {
     "data": {
      "text/plain": [
       "[['Fares', 'pf@isae.edu.lb'], ['Dupont', 'de@isae.edu.lb']]"
      ]
     },
     "execution_count": 31,
     "metadata": {},
     "output_type": "execute_result"
    }
   ],
   "source": [
    "#Ou bien\n",
    "maBD=select(['Nom', 'Prenom', 'tel', 'email'],\n",
    "            [['Pascal', 'Fares', '03xxxyyy', 'pf@isae.edu.lb'], \n",
    "             ['Emile', 'Dupont', '336xxyyzzww', 'de@isae.edu.lb']\n",
    "            ])\n",
    "maBD(['Prenom', 'email'])"
   ]
  },
  {
   "cell_type": "code",
   "execution_count": 33,
   "metadata": {},
   "outputs": [
    {
     "data": {
      "text/plain": [
       "[[1001, 11], [1002, 12], [1003, 9], [1001, 11], [1002, 10]]"
      ]
     },
     "execution_count": 33,
     "metadata": {},
     "output_type": "execute_result"
    }
   ],
   "source": [
    "# Un autre exemple de DataFrame idEleve, edmatiere, note\n",
    "maBDMatiereNotes=select(['idMat','idEtud','note'],\n",
    "                        [[503, 1001, 11],\n",
    "                         [503, 1002, 12],\n",
    "                         [503, 1003, 9],\n",
    "                         [504, 1001, 11],\n",
    "                         [504, 1002, 10],\n",
    "                        ])\n",
    "maBDMatiereNotes(['idEtud','note'])"
   ]
  },
  {
   "cell_type": "markdown",
   "metadata": {},
   "source": [
    "> Mais je ns souhaiterais que les notes de l'étudiant 1001, pas les autres\n",
    "# Le filtrage des données : l'équivalent du where en SQL\n",
    "cette fois si ce n'est pas un sous ensemble d'attribut que l'on souahite mais les lignes (les donnés) qui correspondent à un certain critères (ou prédicat)\n",
    "\n",
    "Le prédicat que nous souhaitons est un prédicat qui s'applique à un champs, par exemple:\n",
    "* idEtud == 1001\n",
    "* note > 10\n",
    "* ou toute autre combinaisons\n",
    "\n",
    "## commencons par définir un prédicat associé a un champ\n"
   ]
  },
  {
   "cell_type": "code",
   "execution_count": 54,
   "metadata": {},
   "outputs": [],
   "source": [
    "#Soit la fonctions where : un filter (ou comprenhemtion list)\n",
    "# Les donnees, liste des champs, un champs, un predicat => renvoie True ou False en fonction du résultat de l'application du prédicat\n",
    "where=lambda lchamps,donnees: lambda champ,p: [l for l in donnees if p(l[getIndex(lchamps,champ)])]\n",
    "#ou"
   ]
  },
  {
   "cell_type": "code",
   "execution_count": 55,
   "metadata": {},
   "outputs": [],
   "source": [
    "WhereMatiereNotes=where(['idMat','idEtud','note'],\n",
    "                        [[503, 1001, 11],\n",
    "                         [503, 1002, 12],\n",
    "                         [503, 1003, 9],\n",
    "                         [504, 1001, 11],\n",
    "                         [504, 1002, 10],\n",
    "                        ])\n",
    "mnChamps=['idMat','idEtud','note']\n",
    "mnDonnees=[[503, 1001, 11],\n",
    "           [503, 1002, 12],\n",
    "           [503, 1003, 9],\n",
    "           [504, 1001, 11],\n",
    "           [504, 1002, 10]\n",
    "          ]"
   ]
  },
  {
   "cell_type": "code",
   "execution_count": 56,
   "metadata": {},
   "outputs": [
    {
     "data": {
      "text/plain": [
       "[[503, 1001, 11], [504, 1001, 11]]"
      ]
     },
     "execution_count": 56,
     "metadata": {},
     "output_type": "execute_result"
    }
   ],
   "source": [
    "WhereMatiereNotes('idEtud', lambda ie: ie==1001)"
   ]
  },
  {
   "cell_type": "code",
   "execution_count": null,
   "metadata": {},
   "outputs": [],
   "source": [
    "### Avec filter au lieux de list comprehention (en découpant les étapes)"
   ]
  },
  {
   "cell_type": "code",
   "execution_count": 57,
   "metadata": {},
   "outputs": [],
   "source": [
    "idetudP=lambda ie: ie==1001 #Le prédicat que nous souhaitons appliquer\n"
   ]
  },
  {
   "cell_type": "code",
   "execution_count": 58,
   "metadata": {},
   "outputs": [
    {
     "data": {
      "text/plain": [
       "<filter at 0x7f50c9727ef0>"
      ]
     },
     "execution_count": 58,
     "metadata": {},
     "output_type": "execute_result"
    }
   ],
   "source": [
    "filter(lambda l: idetudP(l[getIndex(mnChamps, 'idEtud')]), mnDonnees )"
   ]
  },
  {
   "cell_type": "code",
   "execution_count": 59,
   "metadata": {},
   "outputs": [
    {
     "data": {
      "text/plain": [
       "[[503, 1001, 11], [504, 1001, 11]]"
      ]
     },
     "execution_count": 59,
     "metadata": {},
     "output_type": "execute_result"
    }
   ],
   "source": [
    "list(filter(lambda l: idetudP(l[getIndex(mnChamps, 'idEtud')]), mnDonnees ))"
   ]
  },
  {
   "cell_type": "markdown",
   "metadata": {},
   "source": [
    "# Tout ceci est un peu verbeux (bavard) et éparpillé, passons au paradigme Objet, tout en gradant un esprit fonctionel\n",
    "## Quelques remarques\n",
    "\n",
    "* Nous avons définit des fonctions qui ont tout ce qui faut en paramétre pour réliser leur objectif, et sans avoir besoin d'information sauvegardée ailleurs. Nous avons essayer de faire du fonctionel pure.\n",
    "* Nous aurions pu définir des fonctions qui récupère certains données depuis une source de donnée (une mémoire, un disque, un réseux, ...) [Par exemple ici](#55)\n",
    "* Nous pourrions nous aboné à un flux de données, et réagir a chauqe nouvelle donnée recut, c'est le paradigme réactif"
   ]
  },
  {
   "cell_type": "code",
   "execution_count": null,
   "metadata": {},
   "outputs": [],
   "source": []
  }
 ],
 "metadata": {
  "kernelspec": {
   "display_name": "Python 3",
   "language": "python",
   "name": "python3"
  },
  "language_info": {
   "codemirror_mode": {
    "name": "ipython",
    "version": 3
   },
   "file_extension": ".py",
   "mimetype": "text/x-python",
   "name": "python",
   "nbconvert_exporter": "python",
   "pygments_lexer": "ipython3",
   "version": "3.6.9"
  }
 },
 "nbformat": 4,
 "nbformat_minor": 4
}

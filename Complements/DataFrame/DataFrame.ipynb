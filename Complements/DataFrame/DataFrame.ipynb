{
 "cells": [
  {
   "cell_type": "markdown",
   "metadata": {},
   "source": [
    "# Nous allons définir, un type (une classe d'objets) DatFrame avec un ensemble d'opérateurs (des méthodes):\n",
    "## insert, select, where\n",
    "Les opérations que nous avions réalisé en pure fonctionel, précédement\n"
   ]
  },
  {
   "cell_type": "code",
   "execution_count": null,
   "metadata": {},
   "outputs": [],
   "source": [
    "class DataFrame:\n",
    "    def __init__(self,champs):\n",
    "        self.champs=champs\n",
    "        self.donnees=[]\n",
    "    def insert(ligne):\n",
    "        self.donnees.append(ligne)\n",
    "    def __str__(self):\n",
    "        return (f\"\"\"\n",
    "        \n",
    "        \"\"\"\n",
    "        "
   ]
  }
 ],
 "metadata": {
  "kernelspec": {
   "display_name": "Python 3",
   "language": "python",
   "name": "python3"
  },
  "language_info": {
   "codemirror_mode": {
    "name": "ipython",
    "version": 3
   },
   "file_extension": ".py",
   "mimetype": "text/x-python",
   "name": "python",
   "nbconvert_exporter": "python",
   "pygments_lexer": "ipython3",
   "version": "3.6.9"
  }
 },
 "nbformat": 4,
 "nbformat_minor": 4
}

{
 "cells": [
  {
   "cell_type": "code",
   "execution_count": 37,
   "metadata": {},
   "outputs": [],
   "source": [
    "class Exp:\n",
    "    ''' Une interface racine de la hiéarchie des expressions'''\n",
    "    def eval(self):\n",
    "        pass\n",
    "    \n",
    "    def __str__(self):\n",
    "        pass\n",
    "    \n",
    "    def postfixe(self):\n",
    "        pass"
   ]
  },
  {
   "cell_type": "code",
   "execution_count": 38,
   "metadata": {},
   "outputs": [],
   "source": [
    "class Const(Exp):\n",
    "    def __init__(self, v):\n",
    "        ''' Initialise une constante v est un numérique ''' \n",
    "        self.e=v\n",
    "        \n",
    "    def eval(self):\n",
    "        return self.e\n",
    "    \n",
    "    def __str__(self):\n",
    "        return f\"C:{self.e}\"\n",
    "    \n",
    "    def postfixe(self):\n",
    "        return f\"C:{self.e}\"\n",
    "        "
   ]
  },
  {
   "cell_type": "markdown",
   "metadata": {},
   "source": [
    "## Exemple "
   ]
  },
  {
   "cell_type": "code",
   "execution_count": 39,
   "metadata": {},
   "outputs": [],
   "source": [
    "e0=Const(2)\n",
    "e1=Const(3.5)"
   ]
  },
  {
   "cell_type": "code",
   "execution_count": 40,
   "metadata": {},
   "outputs": [
    {
     "name": "stdout",
     "output_type": "stream",
     "text": [
      "C:2 C:3.5\n"
     ]
    }
   ],
   "source": [
    "print(e0, e1)"
   ]
  },
  {
   "cell_type": "code",
   "execution_count": 41,
   "metadata": {},
   "outputs": [
    {
     "data": {
      "text/plain": [
       "2"
      ]
     },
     "execution_count": 41,
     "metadata": {},
     "output_type": "execute_result"
    }
   ],
   "source": [
    "e0.eval()"
   ]
  },
  {
   "cell_type": "code",
   "execution_count": 42,
   "metadata": {},
   "outputs": [
    {
     "data": {
      "text/plain": [
       "3.5"
      ]
     },
     "execution_count": 42,
     "metadata": {},
     "output_type": "execute_result"
    }
   ],
   "source": [
    "e1.eval()"
   ]
  },
  {
   "cell_type": "code",
   "execution_count": 43,
   "metadata": {},
   "outputs": [
    {
     "data": {
      "text/plain": [
       "<__main__.Const at 0x7f3e72f12198>"
      ]
     },
     "execution_count": 43,
     "metadata": {},
     "output_type": "execute_result"
    }
   ],
   "source": [
    "e1"
   ]
  },
  {
   "cell_type": "code",
   "execution_count": 44,
   "metadata": {},
   "outputs": [
    {
     "data": {
      "text/plain": [
       "<__main__.Const at 0x7f3e72f121d0>"
      ]
     },
     "execution_count": 44,
     "metadata": {},
     "output_type": "execute_result"
    }
   ],
   "source": [
    "e0"
   ]
  },
  {
   "cell_type": "code",
   "execution_count": 50,
   "metadata": {},
   "outputs": [],
   "source": [
    "class ExpB(Exp):\n",
    "    def __init__(self, op, expg, expd):\n",
    "        self.op=op\n",
    "        self.eg=expg\n",
    "        self.ed=expd\n",
    "        \n",
    "    def __str__(self):\n",
    "        return f\"({self.eg} {self.op} {self.ed})\"\n",
    "    \n",
    "    def postfixe(self):\n",
    "        return f\"{self.eg.postfixe()} {self.ed.postfixe()} {self.op}\"\n",
    "    \n",
    "    def eval(self):\n",
    "        if self.op == '+':\n",
    "            return self.eg.eval() + self.ed.eval()\n",
    "        elif self.op == '-':\n",
    "            return self.eg.eval() - self.ed.eval()\n",
    "        elif self.op == '*':\n",
    "            return self.eg.eval() * self.ed.eval()\n",
    "        elif self.op == '/':\n",
    "            return self.eg.eval() / self.ed.eval()\n",
    "        else:\n",
    "            raise ValueError('Pas opérateur encore connu')"
   ]
  },
  {
   "cell_type": "code",
   "execution_count": 51,
   "metadata": {},
   "outputs": [
    {
     "name": "stdout",
     "output_type": "stream",
     "text": [
      "(C:2 + C:3.5)\n"
     ]
    }
   ],
   "source": [
    "eb3=ExpB(\"+\", e0, e1)\n",
    "print(eb3)"
   ]
  },
  {
   "cell_type": "code",
   "execution_count": 52,
   "metadata": {},
   "outputs": [
    {
     "name": "stdout",
     "output_type": "stream",
     "text": [
      "(C:7 - (C:2 + C:3.5))\n"
     ]
    }
   ],
   "source": [
    "eb4=ExpB(\"-\", Const(7),eb3)\n",
    "print(eb4)"
   ]
  },
  {
   "cell_type": "code",
   "execution_count": 53,
   "metadata": {},
   "outputs": [
    {
     "name": "stdout",
     "output_type": "stream",
     "text": [
      "((C:2 + C:3.5) * (C:7 - (C:2 + C:3.5)))\n"
     ]
    }
   ],
   "source": [
    "eb5=ExpB(\"*\", eb3, eb4)\n",
    "print(eb5)"
   ]
  },
  {
   "cell_type": "code",
   "execution_count": null,
   "metadata": {},
   "outputs": [],
   "source": []
  },
  {
   "cell_type": "code",
   "execution_count": 54,
   "metadata": {},
   "outputs": [
    {
     "data": {
      "text/plain": [
       "'C:2 C:3.5 + C:7 C:2 C:3.5 + - *'"
      ]
     },
     "execution_count": 54,
     "metadata": {},
     "output_type": "execute_result"
    }
   ],
   "source": [
    "eb5.postfixe()"
   ]
  },
  {
   "cell_type": "code",
   "execution_count": null,
   "metadata": {},
   "outputs": [],
   "source": []
  },
  {
   "cell_type": "code",
   "execution_count": 55,
   "metadata": {},
   "outputs": [
    {
     "data": {
      "text/plain": [
       "8.25"
      ]
     },
     "execution_count": 55,
     "metadata": {},
     "output_type": "execute_result"
    }
   ],
   "source": [
    "eb5.eval()"
   ]
  },
  {
   "cell_type": "code",
   "execution_count": 57,
   "metadata": {},
   "outputs": [],
   "source": [
    "ebn=ExpB(\"*\", 5, Const(3))"
   ]
  },
  {
   "cell_type": "code",
   "execution_count": null,
   "metadata": {},
   "outputs": [],
   "source": []
  }
 ],
 "metadata": {
  "kernelspec": {
   "display_name": "Python 3",
   "language": "python",
   "name": "python3"
  },
  "language_info": {
   "codemirror_mode": {
    "name": "ipython",
    "version": 3
   },
   "file_extension": ".py",
   "mimetype": "text/x-python",
   "name": "python",
   "nbconvert_exporter": "python",
   "pygments_lexer": "ipython3",
   "version": "3.6.9"
  }
 },
 "nbformat": 4,
 "nbformat_minor": 2
}

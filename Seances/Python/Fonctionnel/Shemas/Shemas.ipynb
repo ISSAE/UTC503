{
 "cells": [
  {
   "cell_type": "markdown",
   "metadata": {},
   "source": [
    "# Les 3 shémas (ou squeltte algorythmique)\n",
    "Filter, Map, Reduce\n",
    "## Commençons par quelques fontions de traitement sur les listes"
   ]
  },
  {
   "cell_type": "markdown",
   "metadata": {},
   "source": [
    "Nous allons, par la pratique, vérifier que la plupart des fonctions sur les listes ont des définitions récursives qui se  ressemblent. Au niveau du squellete de l'algorythme des formes semblable"
   ]
  },
  {
   "cell_type": "markdown",
   "metadata": {},
   "source": [
    "## Les primitives de bases sur les listes\n",
    "cons, tete, reste. On définit ces 3 fonctions entre elles par: si l une liste non vide on a `l=cons(tele(l),reste(l))`\n",
    "### cons : ajoute un élement en tête de liste "
   ]
  },
  {
   "cell_type": "code",
   "execution_count": 1,
   "metadata": {},
   "outputs": [
    {
     "data": {
      "text/plain": [
       "[1, 2, 3, 4]"
      ]
     },
     "execution_count": 1,
     "metadata": {},
     "output_type": "execute_result"
    }
   ],
   "source": [
    "# Une prenière version\n",
    "cons = lambda t,r: [t,*r]\n",
    "#Une autre\n",
    "cons = lambda t,r: [t]+r\n",
    "#Je trouve la première plus élégente \n",
    "\n",
    "#Un cons special\n",
    "cons_ = lambda t: lambda r: [t,*r]\n",
    "\n",
    "# aisi par exemple cons_(i) est une fonction qui ajouter i a toute liste PAssé en paramétre\n",
    "c1= cons_(1)\n",
    "c1([2,3,4])\n"
   ]
  },
  {
   "cell_type": "code",
   "execution_count": 2,
   "metadata": {},
   "outputs": [
    {
     "data": {
      "text/plain": [
       "[1, 20, 30, 40]"
      ]
     },
     "execution_count": 2,
     "metadata": {},
     "output_type": "execute_result"
    }
   ],
   "source": [
    "c1([20,30,40])"
   ]
  },
  {
   "cell_type": "code",
   "execution_count": 20,
   "metadata": {},
   "outputs": [
    {
     "data": {
      "text/plain": [
       "[3, 3, 4]"
      ]
     },
     "execution_count": 20,
     "metadata": {},
     "output_type": "execute_result"
    }
   ],
   "source": [
    "cons_(3)([3,4])"
   ]
  },
  {
   "cell_type": "markdown",
   "metadata": {},
   "source": [
    "### tete : premier element de la liste si la liste n'est pas vide"
   ]
  },
  {
   "cell_type": "code",
   "execution_count": 3,
   "metadata": {},
   "outputs": [],
   "source": [
    "tete = lambda l: l[0]"
   ]
  },
  {
   "cell_type": "markdown",
   "metadata": {},
   "source": [
    "### reste: le reste de la liste, tous les élements sans le premier"
   ]
  },
  {
   "cell_type": "code",
   "execution_count": 4,
   "metadata": {},
   "outputs": [],
   "source": [
    "reste = lambda l: l[1:]"
   ]
  },
  {
   "cell_type": "markdown",
   "metadata": {},
   "source": [
    "#### Exemples d'utilisation et test"
   ]
  },
  {
   "cell_type": "code",
   "execution_count": 5,
   "metadata": {},
   "outputs": [],
   "source": [
    "maliste = lambda : [1,2,3,4,5]"
   ]
  },
  {
   "cell_type": "code",
   "execution_count": 6,
   "metadata": {},
   "outputs": [
    {
     "name": "stdout",
     "output_type": "stream",
     "text": [
      "[1, 2, 3, 4, 5]\n"
     ]
    }
   ],
   "source": [
    "print(maliste())"
   ]
  },
  {
   "cell_type": "markdown",
   "metadata": {},
   "source": [
    "> Remarque : maliste donnée en style fonctionel. Tous est fonction. Au lieu de faire\n",
    "> `maliste = [1,2,3,4,5]` qui est une affectation.\n",
    "> Malgrés tout par la suite nous utiliserons l'affectation"
   ]
  },
  {
   "cell_type": "code",
   "execution_count": 7,
   "metadata": {},
   "outputs": [
    {
     "name": "stdout",
     "output_type": "stream",
     "text": [
      "1\n",
      "[2, 3, 4, 5]\n"
     ]
    }
   ],
   "source": [
    "print(tete(maliste()))\n",
    "print(reste(maliste()))"
   ]
  },
  {
   "cell_type": "code",
   "execution_count": 8,
   "metadata": {},
   "outputs": [
    {
     "name": "stdout",
     "output_type": "stream",
     "text": [
      "\n",
      "      l=[1, 2, 3, 4, 5] \n",
      "      tete=1 \n",
      "      reste=[2, 3, 4, 5] \n",
      "      cons(tete,reste)=[1, 2, 3, 4, 5]\n"
     ]
    }
   ],
   "source": [
    "print(f\"\"\"\n",
    "      l={maliste()} \n",
    "      tete={tete(maliste())} \n",
    "      reste={reste(maliste())} \n",
    "      cons(tete,reste)={cons(tete(maliste()),reste(maliste()))}\"\"\")"
   ]
  },
  {
   "cell_type": "markdown",
   "metadata": {},
   "source": [
    "## Quelques fonctions sur les listes\n",
    "Nous n'utilerons que cons, tete, liste"
   ]
  },
  {
   "cell_type": "markdown",
   "metadata": {},
   "source": [
    "### Somme des élements d'une liste\n",
    "#### Shemas somme\n",
    "si l vide => 0\n",
    "sinon => add(tete(l), somme(reste(l))\n",
    "\n",
    "Sehmas = opration(tete, appelrecursif(reste))"
   ]
  },
  {
   "cell_type": "code",
   "execution_count": 22,
   "metadata": {},
   "outputs": [
    {
     "name": "stdout",
     "output_type": "stream",
     "text": [
      "15\n"
     ]
    }
   ],
   "source": [
    "add = lambda x,y: x+y\n",
    "somme = lambda l: add(tete(l),somme(reste(l))) if l else 0\n",
    "# on auraiy pu ecrire bien sure directement\n",
    "somme = lambda l: tete(l) + somme (reste(l)) if l else 0\n",
    "print(somme([1,2,3,4,5]))"
   ]
  },
  {
   "cell_type": "markdown",
   "metadata": {},
   "source": [
    "### Concatener 2 listes \n",
    "Soit lg,ld deux liste, pour concatener ld et lg nous allons ajouter tous les élements de lg en debut de ld par exemple myconcat([1,2,3],[4,5,6]) -> [1,2,3,4,5,6]\n",
    "\n",
    "#### Shemas \n",
    "si lg vide => le resutat est ld\n",
    "si ld non vide => nous ajoutons la tete de lg au résultat de la concatenation du reste de lg avec ld ce qui donne `cons(tete(lg),myconcat(reste(lg),ld)`\n",
    "\n",
    "Schemas recursif : operation(tete, appelrecursif(reste,...))"
   ]
  },
  {
   "cell_type": "code",
   "execution_count": 12,
   "metadata": {},
   "outputs": [],
   "source": [
    "# definition avec lambda\n",
    "myconcat = lambda lg,ld: cons(tete(lg),myconcat(reste(lg),ld)) if lg else ld\n",
    "\n",
    "concat_ = lambda ld: lambda lg: cons(tete(lg),concat_(ld)(reste(lg))) if lg else ld\n",
    "concatShemas = concat_([3,4,5])\n",
    "\n",
    "# concactShemas respecte le shemas operation(tete, appelrecursif(reste))"
   ]
  },
  {
   "cell_type": "code",
   "execution_count": 13,
   "metadata": {},
   "outputs": [
    {
     "name": "stdout",
     "output_type": "stream",
     "text": [
      "concat([],[3,4,5]) = [3, 4, 5]\n"
     ]
    }
   ],
   "source": [
    "# test et exemple\n",
    "print(f\"concat([],[3,4,5]) = {myconcat([],[3,4,5])}\")"
   ]
  },
  {
   "cell_type": "code",
   "execution_count": 14,
   "metadata": {},
   "outputs": [
    {
     "name": "stdout",
     "output_type": "stream",
     "text": [
      "concat([2],[3,4,5]) = [2, 3, 4, 5]\n"
     ]
    }
   ],
   "source": [
    "print(f\"concat([2],[3,4,5]) = {myconcat([2],[3,4,5])}\")"
   ]
  },
  {
   "cell_type": "code",
   "execution_count": 15,
   "metadata": {},
   "outputs": [
    {
     "name": "stdout",
     "output_type": "stream",
     "text": [
      "concat([1,2],[3,4,5]) = [1, 2, 3, 4, 5]\n"
     ]
    }
   ],
   "source": [
    "print(f\"concat([1,2],[3,4,5]) = {myconcat([1,2],[3,4,5])}\")"
   ]
  },
  {
   "cell_type": "code",
   "execution_count": 19,
   "metadata": {},
   "outputs": [
    {
     "name": "stdout",
     "output_type": "stream",
     "text": [
      "[2, 3, 4, 5]\n",
      "[2, 3, 4, 5]\n"
     ]
    }
   ],
   "source": [
    "concat_l = concat_([3,4,5])\n",
    "print(concat_([3,4,5])([2]))\n",
    "print(concat_l([2]))"
   ]
  },
  {
   "cell_type": "markdown",
   "metadata": {},
   "source": [
    "## Donc le shemas réduction\n",
    "\n",
    "```foncrec (l) =\n",
    "       SI L NON VIDE:\n",
    "          operation(tete(l),foncrec(reste(l))\n",
    "       SINON:\n",
    "          valeurInitiale pour liste vide\n",
    "```\n",
    "  "
   ]
  },
  {
   "cell_type": "code",
   "execution_count": 23,
   "metadata": {},
   "outputs": [
    {
     "name": "stdout",
     "output_type": "stream",
     "text": [
      "15\n"
     ]
    }
   ],
   "source": [
    "reduire = lambda op,vi: lambda l: op(tete(l),reduire(op,vi)(reste(l))) if l else vi\n",
    "\n",
    "#reduire(op,vi) correspond a la fonction définie par l'operateur \n",
    "# op et la veleur vi quand la liste est vide\n",
    "somme_ = reduire(add,0)\n",
    "print(somme_([1,2,3,4,5]))"
   ]
  },
  {
   "cell_type": "code",
   "execution_count": 25,
   "metadata": {},
   "outputs": [
    {
     "name": "stdout",
     "output_type": "stream",
     "text": [
      "200\n"
     ]
    }
   ],
   "source": [
    "mult = lambda x,y: x*y\n",
    "\n",
    "mult_ = reduire(mult, 1)\n",
    "print(mult_([2,10,10]))"
   ]
  },
  {
   "cell_type": "markdown",
   "metadata": {},
   "source": [
    "### ajouter un élement en tête d'un ensemble de listes\n",
    "Ajouter e en tete de chaque liste\n",
    "Nous aurons une liste de liste par exemple : [[1,2],[10,20],[100.200]], si on ajoute 0 a ces listes nous aurions [[0,1,2],[0,10,20],[0,100.200]]\n",
    "#### superCons\n",
    "soit ll la liste des listes\n",
    "##### Shemas\n",
    "> si ll est vide => rien a faire? ou le resultat est [[e]] ? la lsite de la liste e?\n",
    "\n",
    "> `si ll non vide => cons(cons(e,tete(ll)), superCons(e,reste(ll)))\n",
    "         ou encore cons(cons_(e)(tete(ll)), superCons(cons_(e),reste(ll)))`\n",
    "                \n",
    "shemas = cons(traitement(tete), appelrecursif(traitement, reste))"
   ]
  },
  {
   "cell_type": "code",
   "execution_count": 56,
   "metadata": {},
   "outputs": [],
   "source": [
    "#Version 0\n",
    "superCons = lambda e,ll: cons(cons(e,tete(ll)), superCons(e,reste(ll))) if ll else []\n"
   ]
  },
  {
   "cell_type": "code",
   "execution_count": 57,
   "metadata": {},
   "outputs": [
    {
     "data": {
      "text/plain": [
       "[[0, 1, 2], [0, 10, 20], [0, 100, 200]]"
      ]
     },
     "execution_count": 57,
     "metadata": {},
     "output_type": "execute_result"
    }
   ],
   "source": [
    "superCons(0,[[1,2],[10,20],[100,200]])"
   ]
  },
  {
   "cell_type": "code",
   "execution_count": 58,
   "metadata": {},
   "outputs": [],
   "source": [
    "#version1\n",
    "mapCons = lambda f,ll: cons(f(tete(ll)), mapCons(f, reste(ll))) if ll else []"
   ]
  },
  {
   "cell_type": "code",
   "execution_count": 59,
   "metadata": {},
   "outputs": [
    {
     "data": {
      "text/plain": [
       "[[0, 1, 2], [0, 10, 20], [0, 100, 200]]"
      ]
     },
     "execution_count": 59,
     "metadata": {},
     "output_type": "execute_result"
    }
   ],
   "source": [
    "mapCons(cons_(0),[[1,2],[10,20],[100,200]])"
   ]
  },
  {
   "cell_type": "code",
   "execution_count": 60,
   "metadata": {},
   "outputs": [
    {
     "data": {
      "text/plain": [
       "[[0, 1, 2], [0, 10, 20], [0, 100, 200]]"
      ]
     },
     "execution_count": 60,
     "metadata": {},
     "output_type": "execute_result"
    }
   ],
   "source": [
    "c0=cons_(0)\n",
    "mapCons(c0,[[1,2],[10,20],[100,200]])"
   ]
  },
  {
   "cell_type": "code",
   "execution_count": null,
   "metadata": {},
   "outputs": [],
   "source": []
  }
 ],
 "metadata": {
  "kernelspec": {
   "display_name": "Python 3",
   "language": "python",
   "name": "python3"
  },
  "language_info": {
   "codemirror_mode": {
    "name": "ipython",
    "version": 3
   },
   "file_extension": ".py",
   "mimetype": "text/x-python",
   "name": "python",
   "nbconvert_exporter": "python",
   "pygments_lexer": "ipython3",
   "version": "3.6.9"
  }
 },
 "nbformat": 4,
 "nbformat_minor": 2
}

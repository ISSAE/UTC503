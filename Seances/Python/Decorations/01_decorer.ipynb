{
 "cells": [
  {
   "cell_type": "markdown",
   "metadata": {},
   "source": [
    "Soit la fonction inc un paramétre"
   ]
  },
  {
   "cell_type": "code",
   "execution_count": 1,
   "metadata": {},
   "outputs": [],
   "source": [
    "def inc(x): return x+1"
   ]
  },
  {
   "cell_type": "markdown",
   "metadata": {},
   "source": [
    "soit une fonction decor, qui prend une fonction en paramétre, et l'utilise pour definir une nouvelle fonction"
   ]
  },
  {
   "cell_type": "code",
   "execution_count": 2,
   "metadata": {},
   "outputs": [],
   "source": [
    "def decor(f):\n",
    "    def g(x):\n",
    "        print(\"New fonction f\")\n",
    "        res=f(x)\n",
    "        print(\"End f\")\n",
    "        return res\n",
    "    return g\n"
   ]
  },
  {
   "cell_type": "markdown",
   "metadata": {},
   "source": [
    "Decorons la fonction inc"
   ]
  },
  {
   "cell_type": "code",
   "execution_count": 3,
   "metadata": {},
   "outputs": [],
   "source": [
    "newInc=decor(inc)"
   ]
  },
  {
   "cell_type": "code",
   "execution_count": 4,
   "metadata": {},
   "outputs": [
    {
     "name": "stdout",
     "output_type": "stream",
     "text": [
      "Appel de inc(3) directement = 4\n"
     ]
    }
   ],
   "source": [
    "print(\"Appel de inc(3) directement =\",inc(3))"
   ]
  },
  {
   "cell_type": "code",
   "execution_count": 5,
   "metadata": {},
   "outputs": [
    {
     "name": "stdout",
     "output_type": "stream",
     "text": [
      "New fonction f\n",
      "End f\n",
      "Appel de newInc(3) directement = 4\n"
     ]
    }
   ],
   "source": [
    "print(\"Appel de newInc(3) directement =\",newInc(3))"
   ]
  },
  {
   "cell_type": "markdown",
   "metadata": {},
   "source": [
    "Si maintenant on fait inc=decor(inc) , inc sera maodifié en fonction de sont ancienne définition"
   ]
  },
  {
   "cell_type": "code",
   "execution_count": 6,
   "metadata": {},
   "outputs": [],
   "source": [
    "inc=decor(inc)"
   ]
  },
  {
   "cell_type": "code",
   "execution_count": 7,
   "metadata": {},
   "outputs": [
    {
     "name": "stdout",
     "output_type": "stream",
     "text": [
      "New fonction f\n",
      "End f\n",
      "Maintenant en appelant inc(10)= 11\n"
     ]
    }
   ],
   "source": [
    "print(\"Maintenant en appelant inc(10)=\",inc(10))"
   ]
  },
  {
   "cell_type": "markdown",
   "metadata": {},
   "source": [
    "C'est la fonction inc décoré qui est utilisée"
   ]
  },
  {
   "cell_type": "markdown",
   "metadata": {},
   "source": [
    "# L'annotation docorateur\n",
    "si on a une fabrique de fonction `decor` au lieux de faire f=deco(f) pour décorer f,\n",
    "on peut utiliser l'annotation @decor avant la definition de f.\n",
    "\n",
    "Voici un exemple:"
   ]
  },
  {
   "cell_type": "code",
   "execution_count": 29,
   "metadata": {},
   "outputs": [
    {
     "name": "stdout",
     "output_type": "stream",
     "text": [
      "New fonction f\n",
      "End f\n",
      "6\n"
     ]
    }
   ],
   "source": [
    "@decor\n",
    "def double(x):\n",
    "    return x*2\n",
    "\n",
    "# double=decor(double)\n",
    "print(double(3))"
   ]
  },
  {
   "cell_type": "markdown",
   "metadata": {},
   "source": [
    "## géneraliser au fonctions de plusieurs paramétres\n",
    "Comment connaitre le nombre de paramétre d'une fonction que l'on souhaite décorer?\n",
    "\n",
    "On utilise les paramétres variable *p et **pk \n",
    "\n",
    "Voyons sur un exemple:"
   ]
  },
  {
   "cell_type": "code",
   "execution_count": 27,
   "metadata": {},
   "outputs": [],
   "source": [
    "def decorGeneral(f):\n",
    "    ''' f est une fonction\n",
    "        remvoie la fonction f modifiée\n",
    "    '''\n",
    "    def newF(*params, **paramsk):\n",
    "        ''' Ne sachant pas quels sont les paramétres\n",
    "            de la fonction f on utilise * et **\n",
    "        '''\n",
    "        print(\"Cette fonction a modifié celle ci\",f.__name__,params,paramsk)\n",
    "        res=f(*params,**paramsk) # On appel la fonction f\n",
    "        print(f\"Le résultat de l'appel de \\n\\t{f.__name__} avec les params suivants \\n\\t\\t{params},{paramsk}) est \",res)\n",
    "        return res\n",
    "    return newF"
   ]
  },
  {
   "cell_type": "markdown",
   "metadata": {},
   "source": [
    "**Rappel nombre de paramétre inconnu :**\n",
    "\n",
    "comment définir les paramétres de fonctions variable?\n",
    "\n",
    "_*p et **pk_\n"
   ]
  },
  {
   "cell_type": "code",
   "execution_count": 14,
   "metadata": {},
   "outputs": [
    {
     "name": "stdout",
     "output_type": "stream",
     "text": [
      "(1, 2, 3, 4, 5)\n",
      "{'a': 1, 'b': 2, 'c': 3, 'd': 4, 'e': 5}\n",
      "None None\n",
      "(1, 2, 3) {'a': 1, 'b': 2, 'c': 3}\n",
      "None\n"
     ]
    }
   ],
   "source": [
    "def inconnu0(*p):\n",
    "    print(p)\n",
    "\n",
    "def inconnu1(**p):\n",
    "    print(p)\n",
    "\n",
    "def inconnu3(*p, **pk):\n",
    "    print(p, pk)\n",
    "\n",
    "#essayer\n",
    "print(inconnu0(1,2,3,4,5),inconnu1(a=1,b=2,c=3,d=4,e=5))\n",
    "print(inconnu3(1,2,3,a=1,b=2,c=3))\n"
   ]
  },
  {
   "cell_type": "code",
   "execution_count": 30,
   "metadata": {},
   "outputs": [
    {
     "name": "stdout",
     "output_type": "stream",
     "text": [
      "Cette fonction a modifié celle ci fact (3,) {}\n",
      "Cette fonction a modifié celle ci fact (2,) {}\n",
      "Cette fonction a modifié celle ci fact (1,) {}\n",
      "Cette fonction a modifié celle ci fact (0,) {}\n",
      "Le résultat de l'appel de \n",
      "\tfact avec les params suivants \n",
      "\t\t(0,),{}) est  1\n",
      "Le résultat de l'appel de \n",
      "\tfact avec les params suivants \n",
      "\t\t(1,),{}) est  1\n",
      "Le résultat de l'appel de \n",
      "\tfact avec les params suivants \n",
      "\t\t(2,),{}) est  2\n",
      "Le résultat de l'appel de \n",
      "\tfact avec les params suivants \n",
      "\t\t(3,),{}) est  6\n",
      "6\n"
     ]
    }
   ],
   "source": [
    "@decorGeneral\n",
    "def fact(n):\n",
    "    if n:\n",
    "        return n*fact(n-1)\n",
    "    else:\n",
    "        return 1\n",
    "    \n",
    "print(fact(3))"
   ]
  },
  {
   "cell_type": "code",
   "execution_count": null,
   "metadata": {},
   "outputs": [],
   "source": []
  },
  {
   "cell_type": "code",
   "execution_count": null,
   "metadata": {},
   "outputs": [],
   "source": []
  }
 ],
 "metadata": {
  "kernelspec": {
   "display_name": "Python 3",
   "language": "python",
   "name": "python3"
  },
  "language_info": {
   "codemirror_mode": {
    "name": "ipython",
    "version": 3
   },
   "file_extension": ".py",
   "mimetype": "text/x-python",
   "name": "python",
   "nbconvert_exporter": "python",
   "pygments_lexer": "ipython3",
   "version": "3.6.9"
  }
 },
 "nbformat": 4,
 "nbformat_minor": 2
}
